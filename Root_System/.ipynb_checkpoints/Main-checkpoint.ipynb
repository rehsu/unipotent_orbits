{
 "cells": [
  {
   "cell_type": "code",
   "execution_count": 1,
   "metadata": {},
   "outputs": [
    {
     "name": "stdout",
     "output_type": "stream",
     "text": [
      "importing Jupyter notebook from A_n.ipynb\n",
      "importing Jupyter notebook from B_n.ipynb\n",
      "importing Jupyter notebook from C_n.ipynb\n",
      "importing Jupyter notebook from D_n.ipynb\n"
     ]
    }
   ],
   "source": [
    "import sys \n",
    "import os\n",
    "import import_ipynb\n",
    "from A_n import *\n",
    "from B_n import *\n",
    "from C_n import *\n",
    "from D_n import *\n",
    "import numpy as np\n",
    "from sympy import *\n",
    "from sympy.combinatorics import Permutation"
   ]
  },
  {
   "cell_type": "markdown",
   "metadata": {},
   "source": [
    "### Overview\n",
    "This Python package is made for the following purposes:\n",
    "\n",
    "- Visualizing and computing the basic properties of classical root systems, i.e. of types $A_n, B_n, C_n$ and $D_n$. Exceptional cases are not included.\n",
    "\n",
    "- Visualizing and computing the basic properties of unipotent orbits attached to classical reductive groups.\n",
    "\n",
    "- Visualizing the weyl groups of classical groups.\n",
    "\n",
    "The following documentation is based on the case for $B_n$. The underlying group we use here is the split special orthogonal group $\\text{SO}_{2n+1}$."
   ]
  },
  {
   "cell_type": "markdown",
   "metadata": {},
   "source": [
    "#### Root system $B_n$\n",
    "Let's use $n = 5$ as an example."
   ]
  },
  {
   "cell_type": "code",
   "execution_count": 2,
   "metadata": {},
   "outputs": [],
   "source": [
    "b5 = root_system_B(5)"
   ]
  },
  {
   "cell_type": "markdown",
   "metadata": {},
   "source": [
    "The set of positive simple roots in vector forms, with the choice of the standard Euclidean basis $\\{e_i \\}_{i=1}^5$ in $\\mathbb{R}^5$. "
   ]
  },
  {
   "cell_type": "code",
   "execution_count": 3,
   "metadata": {},
   "outputs": [
    {
     "data": {
      "text/plain": [
       "{1: [1, -1, 0, 0, 0],\n",
       " 2: [0, 1, -1, 0, 0],\n",
       " 3: [0, 0, 1, -1, 0],\n",
       " 4: [0, 0, 0, 1, -1],\n",
       " 5: [0, 0, 0, 0, 1]}"
      ]
     },
     "execution_count": 3,
     "metadata": {},
     "output_type": "execute_result"
    }
   ],
   "source": [
    "b5.simple_roots"
   ]
  },
  {
   "cell_type": "code",
   "execution_count": 4,
   "metadata": {},
   "outputs": [
    {
     "name": "stdout",
     "output_type": "stream",
     "text": [
      "0---0---0---0==>0\n",
      "1   2   3   4   5\n"
     ]
    }
   ],
   "source": [
    "print(b5.dynkin_diagram)"
   ]
  },
  {
   "cell_type": "markdown",
   "metadata": {},
   "source": [
    "The set of all positive roots."
   ]
  },
  {
   "cell_type": "code",
   "execution_count": 5,
   "metadata": {},
   "outputs": [
    {
     "data": {
      "text/plain": [
       "{1: [1, -1, 0, 0, 0],\n",
       " 2: [1, 1, 0, 0, 0],\n",
       " 3: [1, 0, -1, 0, 0],\n",
       " 4: [1, 0, 1, 0, 0],\n",
       " 5: [1, 0, 0, -1, 0],\n",
       " 6: [1, 0, 0, 1, 0],\n",
       " 7: [1, 0, 0, 0, -1],\n",
       " 8: [1, 0, 0, 0, 1],\n",
       " 9: [0, 1, -1, 0, 0],\n",
       " 10: [0, 1, 1, 0, 0],\n",
       " 11: [0, 1, 0, -1, 0],\n",
       " 12: [0, 1, 0, 1, 0],\n",
       " 13: [0, 1, 0, 0, -1],\n",
       " 14: [0, 1, 0, 0, 1],\n",
       " 15: [0, 0, 1, -1, 0],\n",
       " 16: [0, 0, 1, 1, 0],\n",
       " 17: [0, 0, 1, 0, -1],\n",
       " 18: [0, 0, 1, 0, 1],\n",
       " 19: [0, 0, 0, 1, -1],\n",
       " 20: [0, 0, 0, 1, 1],\n",
       " 21: [1, 0, 0, 0, 0],\n",
       " 22: [0, 1, 0, 0, 0],\n",
       " 23: [0, 0, 1, 0, 0],\n",
       " 24: [0, 0, 0, 1, 0],\n",
       " 25: [0, 0, 0, 0, 1]}"
      ]
     },
     "execution_count": 5,
     "metadata": {},
     "output_type": "execute_result"
    }
   ],
   "source": [
    "b5.positive_roots"
   ]
  },
  {
   "cell_type": "markdown",
   "metadata": {},
   "source": [
    "The total number of positive roots."
   ]
  },
  {
   "cell_type": "code",
   "execution_count": 6,
   "metadata": {},
   "outputs": [
    {
     "data": {
      "text/plain": [
       "25"
      ]
     },
     "execution_count": 6,
     "metadata": {},
     "output_type": "execute_result"
    }
   ],
   "source": [
    "b5.num_of_pos_root"
   ]
  },
  {
   "cell_type": "markdown",
   "metadata": {},
   "source": [
    "The one-parameter subgroup corresponding to a root, say $[0,1,0,1,0]$"
   ]
  },
  {
   "cell_type": "code",
   "execution_count": 7,
   "metadata": {},
   "outputs": [
    {
     "data": {
      "text/latex": [
       "$\\displaystyle \\left[\\begin{array}{ccccccccccc}1 & 0 & 0 & 0 & 0 & 0 & 0 & 0 & 0 & 0 & 0\\\\0 & 1 & 0 & 0 & 0 & 0 & 0 & x & 0 & 0 & 0\\\\0 & 0 & 1 & 0 & 0 & 0 & 0 & 0 & 0 & 0 & 0\\\\0 & 0 & 0 & 1 & 0 & 0 & 0 & 0 & 0 & - x & 0\\\\0 & 0 & 0 & 0 & 1 & 0 & 0 & 0 & 0 & 0 & 0\\\\0 & 0 & 0 & 0 & 0 & 1 & 0 & 0 & 0 & 0 & 0\\\\0 & 0 & 0 & 0 & 0 & 0 & 1 & 0 & 0 & 0 & 0\\\\0 & 0 & 0 & 0 & 0 & 0 & 0 & 1 & 0 & 0 & 0\\\\0 & 0 & 0 & 0 & 0 & 0 & 0 & 0 & 1 & 0 & 0\\\\0 & 0 & 0 & 0 & 0 & 0 & 0 & 0 & 0 & 1 & 0\\\\0 & 0 & 0 & 0 & 0 & 0 & 0 & 0 & 0 & 0 & 1\\end{array}\\right]$"
      ],
      "text/plain": [
       "Matrix([\n",
       "[1, 0, 0, 0, 0, 0, 0, 0, 0,  0, 0],\n",
       "[0, 1, 0, 0, 0, 0, 0, x, 0,  0, 0],\n",
       "[0, 0, 1, 0, 0, 0, 0, 0, 0,  0, 0],\n",
       "[0, 0, 0, 1, 0, 0, 0, 0, 0, -x, 0],\n",
       "[0, 0, 0, 0, 1, 0, 0, 0, 0,  0, 0],\n",
       "[0, 0, 0, 0, 0, 1, 0, 0, 0,  0, 0],\n",
       "[0, 0, 0, 0, 0, 0, 1, 0, 0,  0, 0],\n",
       "[0, 0, 0, 0, 0, 0, 0, 1, 0,  0, 0],\n",
       "[0, 0, 0, 0, 0, 0, 0, 0, 1,  0, 0],\n",
       "[0, 0, 0, 0, 0, 0, 0, 0, 0,  1, 0],\n",
       "[0, 0, 0, 0, 0, 0, 0, 0, 0,  0, 1]])"
      ]
     },
     "execution_count": 7,
     "metadata": {},
     "output_type": "execute_result"
    }
   ],
   "source": [
    "b5.root_to_matrix([0,1,0,1,0], 'x')"
   ]
  },
  {
   "cell_type": "markdown",
   "metadata": {},
   "source": [
    "#### Unipotent Orbits\n",
    "\n",
    "Unipotent orbits of the group $\\text{SO}_{2n+1}$ are parametrized by partitions of the integer $2n+1$ with the restriction that each even number occurs with even multiplicity. For an orbit $\\mathcal{O}$ corresponding to the partition $(p_1^{r_1}p_2^{r_2}\\cdots p_s^{r_s})$ where $p_i> p_{i+1}$ and $r_i>0$ for all $i$, we write \n",
    "\\begin{equation*}\n",
    "    \\mathcal{O} = (p_1^{r_1}p_2^{r_2}\\cdots p_s^{r_s}).\n",
    "\\end{equation*}\n",
    "\n",
    "Consider the unipotent orbit $\\mathcal{O} = [5,3,3]$ of $\\text{SO}_{11}$."
   ]
  },
  {
   "cell_type": "code",
   "execution_count": 8,
   "metadata": {},
   "outputs": [],
   "source": [
    "uo = unipotent_orbit_B([5,3,3])"
   ]
  },
  {
   "cell_type": "markdown",
   "metadata": {},
   "source": [
    "Let $\\mathcal{O}= (p_1^{r_1}p_2^{r_2}\\cdots p_s^{r_s})$. For each $p_i$, we associate $r_i$ copies of the diagonal matrix \n",
    "\\begin{equation*}\n",
    "    h_{p_i}(t) = \\text{diag}(t^{p_i-1}, t^{p_i-3}, \\cdots, t^{3-p_i}, t^{1-p_i} ).\n",
    "\\end{equation*}\n",
    "We obtain a one parameter torus element $h_{\\mathcal{O}}(t)$ with  non-increasing powers of $t$ along the diagonal after combining and rearranging all the $h_{p_i}(t)$'s. For example, if $\\mathcal{O} =[5,3,3]$, then\n",
    "\\begin{equation*}\n",
    "    h_{\\mathcal{O}}(t) = \\text{diag}(t^4, t^2, t^2,t^2,1,1,1,t^{-2},t^{-2},t^{-2}, t^{-4}).\n",
    "\\end{equation*}\n"
   ]
  },
  {
   "cell_type": "code",
   "execution_count": 9,
   "metadata": {},
   "outputs": [
    {
     "data": {
      "text/latex": [
       "$\\displaystyle \\left[\\begin{array}{ccccccccccc}t^{4} & 0 & 0 & 0 & 0 & 0 & 0 & 0 & 0 & 0 & 0\\\\0 & t^{2} & 0 & 0 & 0 & 0 & 0 & 0 & 0 & 0 & 0\\\\0 & 0 & t^{2} & 0 & 0 & 0 & 0 & 0 & 0 & 0 & 0\\\\0 & 0 & 0 & t^{2} & 0 & 0 & 0 & 0 & 0 & 0 & 0\\\\0 & 0 & 0 & 0 & 1 & 0 & 0 & 0 & 0 & 0 & 0\\\\0 & 0 & 0 & 0 & 0 & 1 & 0 & 0 & 0 & 0 & 0\\\\0 & 0 & 0 & 0 & 0 & 0 & 1 & 0 & 0 & 0 & 0\\\\0 & 0 & 0 & 0 & 0 & 0 & 0 & \\frac{1}{t^{2}} & 0 & 0 & 0\\\\0 & 0 & 0 & 0 & 0 & 0 & 0 & 0 & \\frac{1}{t^{2}} & 0 & 0\\\\0 & 0 & 0 & 0 & 0 & 0 & 0 & 0 & 0 & \\frac{1}{t^{2}} & 0\\\\0 & 0 & 0 & 0 & 0 & 0 & 0 & 0 & 0 & 0 & \\frac{1}{t^{4}}\\end{array}\\right]$"
      ],
      "text/plain": [
       "Matrix([\n",
       "[t**4,    0,    0,    0, 0, 0, 0,       0,       0,       0,       0],\n",
       "[   0, t**2,    0,    0, 0, 0, 0,       0,       0,       0,       0],\n",
       "[   0,    0, t**2,    0, 0, 0, 0,       0,       0,       0,       0],\n",
       "[   0,    0,    0, t**2, 0, 0, 0,       0,       0,       0,       0],\n",
       "[   0,    0,    0,    0, 1, 0, 0,       0,       0,       0,       0],\n",
       "[   0,    0,    0,    0, 0, 1, 0,       0,       0,       0,       0],\n",
       "[   0,    0,    0,    0, 0, 0, 1,       0,       0,       0,       0],\n",
       "[   0,    0,    0,    0, 0, 0, 0, t**(-2),       0,       0,       0],\n",
       "[   0,    0,    0,    0, 0, 0, 0,       0, t**(-2),       0,       0],\n",
       "[   0,    0,    0,    0, 0, 0, 0,       0,       0, t**(-2),       0],\n",
       "[   0,    0,    0,    0, 0, 0, 0,       0,       0,       0, t**(-4)]])"
      ]
     },
     "execution_count": 9,
     "metadata": {},
     "output_type": "execute_result"
    }
   ],
   "source": [
    "uo.diagonal_matrix"
   ]
  },
  {
   "cell_type": "markdown",
   "metadata": {},
   "source": [
    "The conjugation action of $h_\\mathcal{O}(t)$ on the unipotent radical $U$ of the upper triangular Borel subgroup $B$ of $\\text{SO}_{2k+1}$ induces a filtration on $U$:\n",
    "\\begin{equation*}\n",
    "    I_{2k+1} \\subset \\cdots \\subset V_{2,\\mathcal{O}} \\subset V_{1,\\mathcal{O}}\\subset V_{0,\\mathcal{O}}=U,\n",
    "\\end{equation*}\n",
    "where each $V_{i,\\mathcal{O}}$ is the subgroup of $U$ generated by \n",
    "\\begin{equation*}\n",
    "    \\{x_{\\alpha}(r)\\in U : h_\\mathcal{O}(t)x_\\alpha(r)h_\\mathcal{O}(t)^{-1} =x_\\alpha(t^jr) \\quad \\text{for some}\\quad j\\geqslant i\\}.\n",
    "\\end{equation*}\n",
    "\n",
    "The most important one is $V_{2,\\mathcal{O}}$, which we can obtain by the following. Entries with $*$ represents non-trivial values."
   ]
  },
  {
   "cell_type": "code",
   "execution_count": 10,
   "metadata": {},
   "outputs": [
    {
     "data": {
      "text/latex": [
       "$\\displaystyle \\left[\\begin{array}{ccccccccccc}1 & * & * & * & * & * & * & * & * & * & 0\\\\0 & 1 & 0 & 0 & * & * & * & * & * & 0 & *\\\\0 & 0 & 1 & 0 & * & * & * & * & 0 & * & *\\\\0 & 0 & 0 & 1 & * & * & * & 0 & * & * & *\\\\0 & 0 & 0 & 0 & 1 & 0 & 0 & * & * & * & *\\\\0 & 0 & 0 & 0 & 0 & 1 & 0 & * & * & * & *\\\\0 & 0 & 0 & 0 & 0 & 0 & 1 & * & * & * & *\\\\0 & 0 & 0 & 0 & 0 & 0 & 0 & 1 & 0 & 0 & *\\\\0 & 0 & 0 & 0 & 0 & 0 & 0 & 0 & 1 & 0 & *\\\\0 & 0 & 0 & 0 & 0 & 0 & 0 & 0 & 0 & 1 & *\\\\0 & 0 & 0 & 0 & 0 & 0 & 0 & 0 & 0 & 0 & 1\\end{array}\\right]$"
      ],
      "text/plain": [
       "Matrix([\n",
       "[1, *, *, *, *, *, *, *, *, *, 0],\n",
       "[0, 1, 0, 0, *, *, *, *, *, 0, *],\n",
       "[0, 0, 1, 0, *, *, *, *, 0, *, *],\n",
       "[0, 0, 0, 1, *, *, *, 0, *, *, *],\n",
       "[0, 0, 0, 0, 1, 0, 0, *, *, *, *],\n",
       "[0, 0, 0, 0, 0, 1, 0, *, *, *, *],\n",
       "[0, 0, 0, 0, 0, 0, 1, *, *, *, *],\n",
       "[0, 0, 0, 0, 0, 0, 0, 1, 0, 0, *],\n",
       "[0, 0, 0, 0, 0, 0, 0, 0, 1, 0, *],\n",
       "[0, 0, 0, 0, 0, 0, 0, 0, 0, 1, *],\n",
       "[0, 0, 0, 0, 0, 0, 0, 0, 0, 0, 1]])"
      ]
     },
     "execution_count": 10,
     "metadata": {},
     "output_type": "execute_result"
    }
   ],
   "source": [
    "uo.unipotent(2)"
   ]
  },
  {
   "cell_type": "code",
   "execution_count": 11,
   "metadata": {},
   "outputs": [
    {
     "data": {
      "text/plain": [
       "21"
      ]
     },
     "execution_count": 11,
     "metadata": {},
     "output_type": "execute_result"
    }
   ],
   "source": [
    "uo.dimension"
   ]
  },
  {
   "cell_type": "markdown",
   "metadata": {},
   "source": [
    "This gives the Gelfand-Kirillov dimension of the unipotent orbit."
   ]
  },
  {
   "cell_type": "markdown",
   "metadata": {},
   "source": [
    "#### Weyl groups\n",
    "\n",
    "Initiate the weyl group of $\\text{SO}_{11}$, with rank $=5$."
   ]
  },
  {
   "cell_type": "code",
   "execution_count": 12,
   "metadata": {},
   "outputs": [],
   "source": [
    "w5 = weyl_group_B(5)"
   ]
  },
  {
   "cell_type": "markdown",
   "metadata": {},
   "source": [
    "With group order"
   ]
  },
  {
   "cell_type": "code",
   "execution_count": 13,
   "metadata": {},
   "outputs": [
    {
     "data": {
      "text/latex": [
       "$\\displaystyle 3840$"
      ],
      "text/plain": [
       "3840"
      ]
     },
     "execution_count": 13,
     "metadata": {},
     "output_type": "execute_result"
    }
   ],
   "source": [
    "w5.group_order"
   ]
  },
  {
   "cell_type": "markdown",
   "metadata": {},
   "source": [
    "To obtain a set of simple reflectins with respect to the 5 simple positive roots:"
   ]
  },
  {
   "cell_type": "code",
   "execution_count": 14,
   "metadata": {},
   "outputs": [
    {
     "data": {
      "text/plain": [
       "['r1', 'r2', 'r3', 'r4', 'r5']"
      ]
     },
     "execution_count": 14,
     "metadata": {},
     "output_type": "execute_result"
    }
   ],
   "source": [
    "w5.generater"
   ]
  },
  {
   "cell_type": "markdown",
   "metadata": {},
   "source": [
    "A weyl group element can be expressed as signed permutation of $\\{1,2,3,4,5\\}$. E.g. $w = [-1,-2,-3,-4,-5]$ is the longest weyl group element. Here we mean $n\\mapsto -n$ for $n = 1,\\cdots, 5$. For example, the root $\\alpha_1 = e_1 -e_2$ is moved to $-\\alpha_1 = e_2 - e_1$ by $w$. The longest weyl group element takes all positive roots into negative ones."
   ]
  },
  {
   "cell_type": "code",
   "execution_count": 15,
   "metadata": {},
   "outputs": [],
   "source": [
    "w = [-1,-2,-3,-4,-5]"
   ]
  },
  {
   "cell_type": "markdown",
   "metadata": {},
   "source": [
    "We can decompose $w$ into product of simple reflections."
   ]
  },
  {
   "cell_type": "code",
   "execution_count": 16,
   "metadata": {},
   "outputs": [
    {
     "data": {
      "text/plain": [
       "'r1*r2*r3*r4*r5*r4*r3*r2*r1*r2*r3*r4*r5*r4*r3*r2*r3*r4*r5*r4*r3*r4*r5*r4*r5'"
      ]
     },
     "execution_count": 16,
     "metadata": {},
     "output_type": "execute_result"
    }
   ],
   "source": [
    "w_1 = w5.permutation_to_reflection(w)\n",
    "w_1"
   ]
  },
  {
   "cell_type": "markdown",
   "metadata": {},
   "source": [
    "Or further to the matrix form,"
   ]
  },
  {
   "cell_type": "code",
   "execution_count": 17,
   "metadata": {},
   "outputs": [
    {
     "data": {
      "text/latex": [
       "$\\displaystyle \\left[\\begin{array}{ccccccccccc}0 & 0 & 0 & 0 & 0 & 0 & 0 & 0 & 0 & 0 & 1\\\\0 & 0 & 0 & 0 & 0 & 0 & 0 & 0 & 0 & 1 & 0\\\\0 & 0 & 0 & 0 & 0 & 0 & 0 & 0 & 1 & 0 & 0\\\\0 & 0 & 0 & 0 & 0 & 0 & 0 & 1 & 0 & 0 & 0\\\\0 & 0 & 0 & 0 & 0 & 0 & 1 & 0 & 0 & 0 & 0\\\\0 & 0 & 0 & 0 & 0 & -1 & 0 & 0 & 0 & 0 & 0\\\\0 & 0 & 0 & 0 & 1 & 0 & 0 & 0 & 0 & 0 & 0\\\\0 & 0 & 0 & 1 & 0 & 0 & 0 & 0 & 0 & 0 & 0\\\\0 & 0 & 1 & 0 & 0 & 0 & 0 & 0 & 0 & 0 & 0\\\\0 & 1 & 0 & 0 & 0 & 0 & 0 & 0 & 0 & 0 & 0\\\\1 & 0 & 0 & 0 & 0 & 0 & 0 & 0 & 0 & 0 & 0\\end{array}\\right]$"
      ],
      "text/plain": [
       "Matrix([\n",
       "[0, 0, 0, 0, 0,  0, 0, 0, 0, 0, 1],\n",
       "[0, 0, 0, 0, 0,  0, 0, 0, 0, 1, 0],\n",
       "[0, 0, 0, 0, 0,  0, 0, 0, 1, 0, 0],\n",
       "[0, 0, 0, 0, 0,  0, 0, 1, 0, 0, 0],\n",
       "[0, 0, 0, 0, 0,  0, 1, 0, 0, 0, 0],\n",
       "[0, 0, 0, 0, 0, -1, 0, 0, 0, 0, 0],\n",
       "[0, 0, 0, 0, 1,  0, 0, 0, 0, 0, 0],\n",
       "[0, 0, 0, 1, 0,  0, 0, 0, 0, 0, 0],\n",
       "[0, 0, 1, 0, 0,  0, 0, 0, 0, 0, 0],\n",
       "[0, 1, 0, 0, 0,  0, 0, 0, 0, 0, 0],\n",
       "[1, 0, 0, 0, 0,  0, 0, 0, 0, 0, 0]])"
      ]
     },
     "execution_count": 17,
     "metadata": {},
     "output_type": "execute_result"
    }
   ],
   "source": [
    "w_2 = w5.reflection_to_matrix(w_1)\n",
    "w_2"
   ]
  },
  {
   "cell_type": "markdown",
   "metadata": {},
   "source": [
    "In the case you start with a permutation matrix like $w_2$, you can also decompose it into simple reflections."
   ]
  },
  {
   "cell_type": "code",
   "execution_count": 18,
   "metadata": {},
   "outputs": [
    {
     "data": {
      "text/plain": [
       "'r1*r2*r3*r4*r5*r4*r3*r2*r1*r2*r3*r4*r5*r4*r3*r2*r3*r4*r5*r4*r3*r4*r5*r4*r5'"
      ]
     },
     "execution_count": 18,
     "metadata": {},
     "output_type": "execute_result"
    }
   ],
   "source": [
    "w_3 = w5.matrix_to_reflection(w_2)\n",
    "w_3"
   ]
  }
 ],
 "metadata": {
  "kernelspec": {
   "display_name": "Python 3 (ipykernel)",
   "language": "python",
   "name": "python3"
  },
  "language_info": {
   "codemirror_mode": {
    "name": "ipython",
    "version": 3
   },
   "file_extension": ".py",
   "mimetype": "text/x-python",
   "name": "python",
   "nbconvert_exporter": "python",
   "pygments_lexer": "ipython3",
   "version": "3.9.12"
  },
  "vscode": {
   "interpreter": {
    "hash": "9cd909aaeab0e1bd466e8ad7611af233eab121222e9ed75c35ca2dd61b302cfc"
   }
  }
 },
 "nbformat": 4,
 "nbformat_minor": 2
}
