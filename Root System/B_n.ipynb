{
 "cells": [
  {
   "cell_type": "code",
   "execution_count": 19,
   "metadata": {},
   "outputs": [],
   "source": [
    "import numpy as np\n",
    "from sympy import *\n",
    "import itertools\n",
    "import functools\n",
    "import operator\n",
    "import copy"
   ]
  },
  {
   "cell_type": "code",
   "execution_count": 106,
   "metadata": {},
   "outputs": [],
   "source": [
    "class r_d_Bn():\n",
    "    def __init__(self,n):\n",
    "        self.rank = n\n",
    "        self.dimension = self.dimension()\n",
    "        self.simple_roots = self.all_simple_pos_roots()\n",
    "        self.positive_roots = self.positive_roots()\n",
    "        self.highest_root = self.highest_root()\n",
    "        self.num_of_roots = self.num_of_roots()\n",
    "        self.num_of_pos_root = self.num_of_pos_root()\n",
    "        self.dynkin_diagram = self.dynkin_diagram()\n",
    "\n",
    "    def dimension(self):\n",
    "        return 2 * self.rank + 1\n",
    "    \n",
    "    def basic_root(self, i,j):\n",
    "        n = self.rank\n",
    "        root = [0] * n\n",
    "        root[i-1] = 1\n",
    "        root[j-1] = -1\n",
    "        return root\n",
    "\n",
    "    def root_to_mat(self,root, x): \n",
    "        #x is a string for variable \n",
    "        x = Symbol(str(x))\n",
    "        n = self.rank\n",
    "        m = self.dimension\n",
    "        mat = eye(m,m)\n",
    "        total = sum(root)\n",
    "        if total == 2:\n",
    "            first = root.index(1) \n",
    "            second = root.index(1,first+1,n) \n",
    "            mat[first, m-1-second] =  x\n",
    "            mat[second, m-1-first] = -x\n",
    "        elif total == 1:\n",
    "            idx = root.index(1)\n",
    "            mat[idx,n] = x\n",
    "            mat[n,m-1-idx] = -x\n",
    "        elif total == 0:\n",
    "            first = root.index(1)\n",
    "            second = root.index(-1)\n",
    "            #if first < second:\n",
    "            mat[first, second] = x\n",
    "            mat[m-1-second,m-1-first] = -x\n",
    "            #else:\n",
    "            #    mat[second,first] = x\n",
    "            #    mat[m-1-first,m-1-second] = -x\n",
    "        elif total == -1:\n",
    "            idx = root.index(-1)\n",
    "            mat[n,idx] = x\n",
    "            mat[m-1-idx,n] = -x\n",
    "        else:\n",
    "            first = root.index(-1) \n",
    "            second = root.index(-1,first+1,n) \n",
    "            mat[m-1-second,first] =  x\n",
    "            mat[m-1-first,second] = -x\n",
    "        return mat\n",
    "    \n",
    "    def simple_root(self, i):\n",
    "        #return the i-th simple positive root, indexing from 1.\n",
    "        n = self.rank\n",
    "        if i < n:\n",
    "            return self.basic_root(i-1,i) \n",
    "        else:\n",
    "            root = [0] * n\n",
    "            root[n-1] = 1\n",
    "            return root\n",
    "        \n",
    "    def all_simple_pos_roots(self):\n",
    "        n = self.rank\n",
    "        sim_pos_roots = {}\n",
    "        for i in range(1,n+1):\n",
    "            sim_pos_roots[i] = self.simple_root(i) \n",
    "        return sim_pos_roots\n",
    "\n",
    "    def positive_roots(self):\n",
    "        n = self.rank\n",
    "        pos_roots = {}\n",
    "        k = 0\n",
    "        for i in range(n-1):\n",
    "            for j in range(i+1,n):\n",
    "                k += 1\n",
    "                pos_roots[k] = self.basic_root(i,j)\n",
    "                k += 1\n",
    "                root = self.basic_root(i,j)\n",
    "                root[j] = 1\n",
    "                pos_roots[k] = root\n",
    "        for i in range(n):\n",
    "            k += 1\n",
    "            root = [0] * n\n",
    "            root[i] = 1\n",
    "            pos_roots[k] = root\n",
    "                \n",
    "        return pos_roots\n",
    "\n",
    "    def highest_root(self):\n",
    "        root = self.basic_root(1,2)\n",
    "        root[1] = 1\n",
    "        return root\n",
    "\n",
    "    def num_of_roots(self):\n",
    "        n = self.rank\n",
    "        return 2 * (n ** 2)\n",
    "    \n",
    "    def num_of_pos_root(self):\n",
    "        return self.num_of_roots // 2\n",
    "\n",
    "    def dynkin_diagram(self):\n",
    "        n = self.rank\n",
    "        diag = '---'.join(\"0\" for i in range(1, n)) \n",
    "        diag += '==>0\\n'\n",
    "        diag += '   '.join(str(i) for i in range(1, n+1))\n",
    "        return diag\n",
    "\n",
    "\n"
   ]
  },
  {
   "cell_type": "code",
   "execution_count": 117,
   "metadata": {},
   "outputs": [],
   "source": [
    "b5 = r_d_Bn(5)"
   ]
  },
  {
   "cell_type": "code",
   "execution_count": 118,
   "metadata": {},
   "outputs": [
    {
     "data": {
      "text/plain": [
       "[1, -1, 0, 0, 0]"
      ]
     },
     "execution_count": 118,
     "metadata": {},
     "output_type": "execute_result"
    }
   ],
   "source": [
    "r1 = b5.basic_root(1,2)\n",
    "r1"
   ]
  },
  {
   "cell_type": "code",
   "execution_count": 119,
   "metadata": {},
   "outputs": [],
   "source": [
    "r2 = b5.basic_root(2,3)"
   ]
  },
  {
   "cell_type": "code",
   "execution_count": 120,
   "metadata": {},
   "outputs": [
    {
     "data": {
      "text/latex": [
       "$\\displaystyle \\left[\\begin{array}{ccccccccccc}1 & 0 & x y & 0 & 0 & 0 & 0 & 0 & 0 & 0 & 0\\\\0 & 1 & y & 0 & 0 & 0 & 0 & 0 & 0 & 0 & 0\\\\0 & 0 & 1 & 0 & 0 & 0 & 0 & 0 & 0 & 0 & 0\\\\0 & 0 & 0 & 1 & 0 & 0 & 0 & 0 & 0 & 0 & 0\\\\0 & 0 & 0 & 0 & 1 & 0 & 0 & 0 & 0 & 0 & 0\\\\0 & 0 & 0 & 0 & 0 & 1 & 0 & 0 & 0 & 0 & 0\\\\0 & 0 & 0 & 0 & 0 & 0 & 1 & 0 & 0 & 0 & 0\\\\0 & 0 & 0 & 0 & 0 & 0 & 0 & 1 & 0 & 0 & 0\\\\0 & 0 & 0 & 0 & 0 & 0 & 0 & 0 & 1 & - y & - x y\\\\0 & 0 & 0 & 0 & 0 & 0 & 0 & 0 & 0 & 1 & 0\\\\0 & 0 & 0 & 0 & 0 & 0 & 0 & 0 & 0 & 0 & 1\\end{array}\\right]$"
      ],
      "text/plain": [
       "Matrix([\n",
       "[1, 0, x*y, 0, 0, 0, 0, 0, 0,  0,    0],\n",
       "[0, 1,   y, 0, 0, 0, 0, 0, 0,  0,    0],\n",
       "[0, 0,   1, 0, 0, 0, 0, 0, 0,  0,    0],\n",
       "[0, 0,   0, 1, 0, 0, 0, 0, 0,  0,    0],\n",
       "[0, 0,   0, 0, 1, 0, 0, 0, 0,  0,    0],\n",
       "[0, 0,   0, 0, 0, 1, 0, 0, 0,  0,    0],\n",
       "[0, 0,   0, 0, 0, 0, 1, 0, 0,  0,    0],\n",
       "[0, 0,   0, 0, 0, 0, 0, 1, 0,  0,    0],\n",
       "[0, 0,   0, 0, 0, 0, 0, 0, 1, -y, -x*y],\n",
       "[0, 0,   0, 0, 0, 0, 0, 0, 0,  1,    0],\n",
       "[0, 0,   0, 0, 0, 0, 0, 0, 0,  0,    1]])"
      ]
     },
     "execution_count": 120,
     "metadata": {},
     "output_type": "execute_result"
    }
   ],
   "source": [
    "b5.root_to_mat(r1,'x') * b5.root_to_mat(r2, 'y') * b5.root_to_mat(r1, 'x').inv()"
   ]
  },
  {
   "cell_type": "code",
   "execution_count": null,
   "metadata": {},
   "outputs": [],
   "source": []
  }
 ],
 "metadata": {
  "kernelspec": {
   "display_name": "Python 3.10.1 64-bit",
   "language": "python",
   "name": "python3"
  },
  "language_info": {
   "codemirror_mode": {
    "name": "ipython",
    "version": 3
   },
   "file_extension": ".py",
   "mimetype": "text/x-python",
   "name": "python",
   "nbconvert_exporter": "python",
   "pygments_lexer": "ipython3",
   "version": "3.9.12"
  },
  "orig_nbformat": 4,
  "vscode": {
   "interpreter": {
    "hash": "9cd909aaeab0e1bd466e8ad7611af233eab121222e9ed75c35ca2dd61b302cfc"
   }
  }
 },
 "nbformat": 4,
 "nbformat_minor": 2
}
