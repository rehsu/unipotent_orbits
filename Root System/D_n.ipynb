{
 "cells": [
  {
   "cell_type": "code",
   "execution_count": 52,
   "metadata": {},
   "outputs": [],
   "source": [
    "import numpy as np\n",
    "from sympy import *\n",
    "import itertools\n",
    "import functools\n",
    "import operator\n",
    "import copy"
   ]
  },
  {
   "cell_type": "code",
   "execution_count": 82,
   "metadata": {},
   "outputs": [],
   "source": [
    "class r_d_An():\n",
    "    def __init__(self,n):\n",
    "        self.rank = n\n",
    "        self.dimension = self.dimension()\n",
    "        self.simple_roots = self.all_simple_pos_roots()\n",
    "        self.positive_roots = self.positive_roots()\n",
    "        self.highest_root = self.highest_root()\n",
    "        self.num_of_roots = self.num_of_roots()\n",
    "        self.num_of_pos_root = self.num_of_pos_root()\n",
    "        self.dynkin_diagram = self.dynkin_diagram()\n",
    "\n",
    "    def dimension(self):\n",
    "        return self.rank + 1\n",
    "\n",
    "    def basic_root(self, i,j):\n",
    "        m = self.dimension\n",
    "        root = [0] * m\n",
    "        root[i] = 1\n",
    "        root[j] = -1\n",
    "        return root\n",
    "\n",
    "    def root_to_mat(self,root,x):\n",
    "        m = self.dimension\n",
    "        mat = eye(m,m)\n",
    "        i = root.index(1)\n",
    "        j = root.index(-1)\n",
    "        mat[i,j] = x\n",
    "        return mat\n",
    "    \n",
    "    def simple_root(self, i):\n",
    "        #return the i-th simple positive root, indexing from 1.\n",
    "        return self.basic_root(i-1,i)\n",
    "\n",
    "    def all_simple_pos_roots(self):\n",
    "        n = self.rank\n",
    "        sim_pos_roots = {}\n",
    "        for i in range(1,n+1):\n",
    "            sim_pos_roots[i] = self.basic_root(i-1,i) \n",
    "        return sim_pos_roots\n",
    "\n",
    "    def positive_roots(self):\n",
    "        n = self.rank\n",
    "        pos_roots = {}\n",
    "        k = 0\n",
    "        for i in range(n):\n",
    "            for j in range(i+1,n+1):\n",
    "                pos_roots[k] = self.basic_root(i,j)\n",
    "                k += 1\n",
    "        return pos_roots\n",
    "\n",
    "    def highest_root(self):\n",
    "        return self.basic_root(0,self.rank)\n",
    "\n",
    "    def num_of_roots(self):\n",
    "        n = self.rank\n",
    "        return n * (n+1)\n",
    "    def num_of_pos_root(self):\n",
    "        return self.num_of_roots // 2\n",
    "\n",
    "    def dynkin_diagram(self):\n",
    "        n = self.rank\n",
    "        diag = '---'.join(\"o\" for i in range(1, n+1))\n",
    "        diag += '\\r\\n'\n",
    "        diag += '   '.join(str(i) for i in range(1, n+1))\n",
    "        return diag\n",
    "\n",
    "\n"
   ]
  },
  {
   "cell_type": "code",
   "execution_count": null,
   "metadata": {},
   "outputs": [],
   "source": []
  }
 ],
 "metadata": {
  "kernelspec": {
   "display_name": "Python 3.10.1 64-bit",
   "language": "python",
   "name": "python3"
  },
  "language_info": {
   "codemirror_mode": {
    "name": "ipython",
    "version": 3
   },
   "file_extension": ".py",
   "mimetype": "text/x-python",
   "name": "python",
   "nbconvert_exporter": "python",
   "pygments_lexer": "ipython3",
   "version": "3.10.1"
  },
  "orig_nbformat": 4,
  "vscode": {
   "interpreter": {
    "hash": "9cd909aaeab0e1bd466e8ad7611af233eab121222e9ed75c35ca2dd61b302cfc"
   }
  }
 },
 "nbformat": 4,
 "nbformat_minor": 2
}
