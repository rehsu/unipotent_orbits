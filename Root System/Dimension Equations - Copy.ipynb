{
 "cells": [
  {
   "cell_type": "code",
   "execution_count": 2,
   "metadata": {},
   "outputs": [],
   "source": [
    "import numpy as np\n",
    "import sympy as sympy\n",
    "import itertools\n",
    "import functools\n",
    "import operator\n",
    "import copy"
   ]
  },
  {
   "cell_type": "markdown",
   "metadata": {},
   "source": []
  },
  {
   "cell_type": "markdown",
   "metadata": {},
   "source": [
    "For any reductive group $G$, the unipotent orbit $\\mathcal{O}$ is characterized by an integer partion of the group rank $n$. By abuse of notations, we use $\\mathcal{O}$ to mean the partion as well. The Gelfand-Kirillov dimension of a unipotent orbit can be obtained by the following function. (Only for classical groups type $A_n, B_n, C_n$ and $D_n$.)"
   ]
  },
  {
   "cell_type": "code",
   "execution_count": 32,
   "metadata": {},
   "outputs": [],
   "source": [
    "def dim_uo(partition, dy_type):\n",
    "    rank = sum(partition) #The rank of the group.\n",
    "    diml = 0\n",
    "    if rank <= 1:\n",
    "        return diml\n",
    "    \n",
    "    diagonal = [] #This is the diagonal element initiated.\n",
    "    for i in partition:\n",
    "        n = i - 1\n",
    "        j = n\n",
    "        while j >= -n:\n",
    "            diagonal.append(j)\n",
    "            j -= 2\n",
    "    diagonal = sorted(diagonal, reverse = True) # diagonal element corresponding to the partition.\n",
    "    #Loop over positive roots to check the action of diagonal on each of the roots.\n",
    "    for i in range(0,rank):\n",
    "        for j in range(i+1, rank):\n",
    "            if diagonal[i] - diagonal[j] >= 2:\n",
    "                diml += 1\n",
    "            elif diagonal[i] - diagonal[j] == 1:\n",
    "                diml += 1/2\n",
    "    #return the dimension of the unipotent based on the types of the group.\n",
    "    if dy_type == 'A':\n",
    "        return int(diml)\n",
    "    elif dy_type == 'B' and rank%2 == 1:\n",
    "        k = diagonal.index(0)\n",
    "        return int((diml - k) //2)\n",
    "    elif dy_type == 'C' and rank%2 == 0:\n",
    "        k = diagonal.index(0) if 0 in diagonal else rank//2\n",
    "        return int((diml + k) //2)\n",
    "    elif dy_type == 'D' and rank%2 == 0:\n",
    "        k = diagonal.index(0)\n",
    "        return int((diml - k) // 2)\n",
    "    else:\n",
    "        return Exception(\"Root system type not supported.\")\n",
    "            \n",
    "\n"
   ]
  },
  {
   "cell_type": "code",
   "execution_count": 30,
   "metadata": {},
   "outputs": [
    {
     "data": {
      "text/plain": [
       "6"
      ]
     },
     "execution_count": 30,
     "metadata": {},
     "output_type": "execute_result"
    }
   ],
   "source": [
    "dim_uo([3,2,2], 'B')"
   ]
  },
  {
   "cell_type": "code",
   "execution_count": null,
   "metadata": {},
   "outputs": [],
   "source": []
  }
 ],
 "metadata": {
  "kernelspec": {
   "display_name": "Python 3.10.1 64-bit",
   "language": "python",
   "name": "python3"
  },
  "language_info": {
   "codemirror_mode": {
    "name": "ipython",
    "version": 3
   },
   "file_extension": ".py",
   "mimetype": "text/x-python",
   "name": "python",
   "nbconvert_exporter": "python",
   "pygments_lexer": "ipython3",
   "version": "3.10.1"
  },
  "orig_nbformat": 4,
  "vscode": {
   "interpreter": {
    "hash": "9cd909aaeab0e1bd466e8ad7611af233eab121222e9ed75c35ca2dd61b302cfc"
   }
  }
 },
 "nbformat": 4,
 "nbformat_minor": 2
}
